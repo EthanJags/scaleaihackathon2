{
 "cells": [
  {
   "cell_type": "code",
   "execution_count": 1,
   "id": "56483e72",
   "metadata": {},
   "outputs": [],
   "source": [
    "import json\n",
    "import openai\n",
    "import os, pandas as pd"
   ]
  },
  {
   "cell_type": "markdown",
   "id": "3f27d4ed",
   "metadata": {},
   "source": [
    "# Fine-tuning a GPT-3 model for specific prompts"
   ]
  },
  {
   "cell_type": "code",
   "execution_count": 2,
   "id": "dcaff120",
   "metadata": {},
   "outputs": [],
   "source": [
    "# Load the API key from env var\n",
    "\n",
    "openai.api_key = os.getenv(\"OPENAI_API_KEY\")"
   ]
  },
  {
   "cell_type": "code",
   "execution_count": 1,
   "id": "7a5fe452",
   "metadata": {},
   "outputs": [
    {
     "name": "stdout",
     "output_type": "stream",
     "text": [
      "Analyzing...\n",
      "\n",
      "- Your file contains 7 prompt-completion pairs. In general, we recommend having at least a few hundred examples. We've found that performance tends to linearly increase for every doubling of the number of examples\n",
      "- All prompts end with suffix `.`\n",
      "  WARNING: Some of your prompts contain the suffix `.` more than once. We strongly suggest that you review your prompts and add a unique suffix\n",
      "- All prompts start with prefix `Number of Fingers: `. Fine-tuning doesn't require the instruction specifying the task, or a few-shot example scenario. Most of the time you should only add the input data into the prompt, and the desired output into the completion\n",
      "- All completions start with prefix `$(r\\sin(`. Most of the time you should only add the output data into the completion, without any prefix\n",
      "- All completions end with suffix `)) = \\psi $`. This suffix seems very long. Consider replacing with a shorter suffix, such as `\\n`\n",
      "- The completion should start with a whitespace character (` `). This tends to produce better results due to the tokenization we use. See https://platform.openai.com/docs/guides/fine-tuning/preparing-your-dataset for more details\n",
      "\n",
      "Based on the analysis we will perform the following actions:\n",
      "- [Recommended] Remove prefix `Number of Fingers: ` from all prompts [Y/n]: ^C\n",
      "\n"
     ]
    }
   ],
   "source": [
    "def convert_arrays_to_csv(file_path):\n",
    "    # Read the array of arrays from the .txt file\n",
    "    with open(file_path, 'r') as file:\n",
    "        array_of_arrays = np.array(eval(file.read()))\n",
    "\n",
    "    # Convert the array of arrays to a DataFrame\n",
    "    file_path = 'path/to/your/file.txt'\n",
    "    df = convert_arrays_to_csv(file_path)\n",
    "\n",
    "    # Save the DataFrame to a CSV file\n",
    "    csv_file_path = file_path.replace('.txt', '.csv')\n",
    "    df.to_csv(csv_file_path, index=False)\n",
    "\n",
    "    # Assign df to the newly created CSV file\n",
    "    df = pd.read_csv(csv_file_path)\n",
    "\n",
    "    return df\n",
    "\n",
    "!openai tools fine_tunes.prepare_data -f training_data.jsonl"
   ]
  },
  {
   "cell_type": "code",
   "execution_count": 7,
   "id": "93469f37",
   "metadata": {},
   "outputs": [
    {
     "data": {
      "text/plain": [
       "'file-D9znyKJPuuI1DQ8Gpmdgyji8'"
      ]
     },
     "execution_count": 7,
     "metadata": {},
     "output_type": "execute_result"
    }
   ],
   "source": [
    "file_id = upload_response.id\n",
    "file_id"
   ]
  },
  {
   "cell_type": "code",
   "execution_count": 16,
   "id": "16bb42a2",
   "metadata": {},
   "outputs": [
    {
     "data": {
      "text/plain": [
       "<FineTune fine-tune id=ft-eQekbr32V3ud5gCT4uB2MF3k at 0x7f7958318f90> JSON: {\n",
       "  \"created_at\": 1687113548,\n",
       "  \"events\": [\n",
       "    {\n",
       "      \"created_at\": 1687113548,\n",
       "      \"level\": \"info\",\n",
       "      \"message\": \"Created fine-tune: ft-eQekbr32V3ud5gCT4uB2MF3k\",\n",
       "      \"object\": \"fine-tune-event\"\n",
       "    }\n",
       "  ],\n",
       "  \"fine_tuned_model\": null,\n",
       "  \"hyperparams\": {\n",
       "    \"batch_size\": null,\n",
       "    \"learning_rate_multiplier\": null,\n",
       "    \"n_epochs\": 4,\n",
       "    \"prompt_loss_weight\": 0.01\n",
       "  },\n",
       "  \"id\": \"ft-eQekbr32V3ud5gCT4uB2MF3k\",\n",
       "  \"model\": \"curie\",\n",
       "  \"object\": \"fine-tune\",\n",
       "  \"organization_id\": \"org-vEiwthoCbMO1wp6DrXzyRMxP\",\n",
       "  \"result_files\": [],\n",
       "  \"status\": \"pending\",\n",
       "  \"training_files\": [\n",
       "    {\n",
       "      \"bytes\": 4708,\n",
       "      \"created_at\": 1687113163,\n",
       "      \"filename\": \"file\",\n",
       "      \"id\": \"file-D9znyKJPuuI1DQ8Gpmdgyji8\",\n",
       "      \"object\": \"file\",\n",
       "      \"purpose\": \"fine-tune\",\n",
       "      \"status\": \"processed\",\n",
       "      \"status_details\": null\n",
       "    }\n",
       "  ],\n",
       "  \"updated_at\": 1687113548,\n",
       "  \"validation_files\": []\n",
       "}"
      ]
     },
     "execution_count": 16,
     "metadata": {},
     "output_type": "execute_result"
    }
   ],
   "source": [
    "fine_tune_response = openai.FineTune.create(training_file=file_id)\n",
    "fine_tune_response"
   ]
  },
  {
   "cell_type": "code",
   "execution_count": 29,
   "id": "4cf062ab",
   "metadata": {},
   "outputs": [
    {
     "data": {
      "text/plain": [
       "<OpenAIObject list at 0x7f7970cdae00> JSON: {\n",
       "  \"data\": [\n",
       "    {\n",
       "      \"created_at\": 1687113548,\n",
       "      \"level\": \"info\",\n",
       "      \"message\": \"Created fine-tune: ft-eQekbr32V3ud5gCT4uB2MF3k\",\n",
       "      \"object\": \"fine-tune-event\"\n",
       "    }\n",
       "  ],\n",
       "  \"object\": \"list\"\n",
       "}"
      ]
     },
     "execution_count": 29,
     "metadata": {},
     "output_type": "execute_result"
    }
   ],
   "source": [
    "fine_tune_events = openai.FineTune.list_events(id=fine_tune_response.id)\n",
    "fine_tune_events"
   ]
  },
  {
   "cell_type": "markdown",
   "id": "362f5bf3",
   "metadata": {},
   "source": [
    "Check the progress with `openai.FineTune.retrieve(id=fine_tune_response.id)` and get an object with the fine-tuning job data"
   ]
  },
  {
   "cell_type": "code",
   "execution_count": 30,
   "id": "f01831be",
   "metadata": {},
   "outputs": [
    {
     "data": {
      "text/plain": [
       "<FineTune fine-tune id=ft-eQekbr32V3ud5gCT4uB2MF3k at 0x7f79588c09a0> JSON: {\n",
       "  \"created_at\": 1687113548,\n",
       "  \"events\": [\n",
       "    {\n",
       "      \"created_at\": 1687113548,\n",
       "      \"level\": \"info\",\n",
       "      \"message\": \"Created fine-tune: ft-eQekbr32V3ud5gCT4uB2MF3k\",\n",
       "      \"object\": \"fine-tune-event\"\n",
       "    }\n",
       "  ],\n",
       "  \"fine_tuned_model\": null,\n",
       "  \"hyperparams\": {\n",
       "    \"batch_size\": null,\n",
       "    \"learning_rate_multiplier\": null,\n",
       "    \"n_epochs\": 4,\n",
       "    \"prompt_loss_weight\": 0.01\n",
       "  },\n",
       "  \"id\": \"ft-eQekbr32V3ud5gCT4uB2MF3k\",\n",
       "  \"model\": \"curie\",\n",
       "  \"object\": \"fine-tune\",\n",
       "  \"organization_id\": \"org-vEiwthoCbMO1wp6DrXzyRMxP\",\n",
       "  \"result_files\": [],\n",
       "  \"status\": \"pending\",\n",
       "  \"training_files\": [\n",
       "    {\n",
       "      \"bytes\": 4708,\n",
       "      \"created_at\": 1687113163,\n",
       "      \"filename\": \"file\",\n",
       "      \"id\": \"file-D9znyKJPuuI1DQ8Gpmdgyji8\",\n",
       "      \"object\": \"file\",\n",
       "      \"purpose\": \"fine-tune\",\n",
       "      \"status\": \"processed\",\n",
       "      \"status_details\": null\n",
       "    }\n",
       "  ],\n",
       "  \"updated_at\": 1687113548,\n",
       "  \"validation_files\": []\n",
       "}"
      ]
     },
     "execution_count": 30,
     "metadata": {},
     "output_type": "execute_result"
    }
   ],
   "source": [
    "retrieve_response = openai.FineTune.retrieve(id=\"ft-eQekbr32V3ud5gCT4uB2MF3k\")\n",
    "retrieve_response"
   ]
  },
  {
   "cell_type": "code",
   "execution_count": 31,
   "id": "ed8c0bef",
   "metadata": {},
   "outputs": [
    {
     "data": {
      "text/plain": [
       "<OpenAIObject list at 0x7f79588c7e00> JSON: {\n",
       "  \"data\": [\n",
       "    {\n",
       "      \"created_at\": 1687113168,\n",
       "      \"fine_tuned_model\": null,\n",
       "      \"hyperparams\": {\n",
       "        \"batch_size\": 1,\n",
       "        \"learning_rate_multiplier\": 0.1,\n",
       "        \"n_epochs\": 4,\n",
       "        \"prompt_loss_weight\": 0.01\n",
       "      },\n",
       "      \"id\": \"ft-vddYJn4wTBeKhVkN6GlVg8bE\",\n",
       "      \"model\": \"curie\",\n",
       "      \"object\": \"fine-tune\",\n",
       "      \"organization_id\": \"org-vEiwthoCbMO1wp6DrXzyRMxP\",\n",
       "      \"result_files\": [],\n",
       "      \"status\": \"pending\",\n",
       "      \"training_files\": [\n",
       "        {\n",
       "          \"bytes\": 4708,\n",
       "          \"created_at\": 1687113163,\n",
       "          \"filename\": \"file\",\n",
       "          \"id\": \"file-D9znyKJPuuI1DQ8Gpmdgyji8\",\n",
       "          \"object\": \"file\",\n",
       "          \"purpose\": \"fine-tune\",\n",
       "          \"status\": \"processed\",\n",
       "          \"status_details\": null\n",
       "        }\n",
       "      ],\n",
       "      \"updated_at\": 1687113783,\n",
       "      \"validation_files\": []\n",
       "    },\n",
       "    {\n",
       "      \"created_at\": 1687113263,\n",
       "      \"fine_tuned_model\": null,\n",
       "      \"hyperparams\": {\n",
       "        \"batch_size\": null,\n",
       "        \"learning_rate_multiplier\": null,\n",
       "        \"n_epochs\": 4,\n",
       "        \"prompt_loss_weight\": 0.01\n",
       "      },\n",
       "      \"id\": \"ft-UIdNUTyt0sJDPAoio01NA4iK\",\n",
       "      \"model\": \"curie\",\n",
       "      \"object\": \"fine-tune\",\n",
       "      \"organization_id\": \"org-vEiwthoCbMO1wp6DrXzyRMxP\",\n",
       "      \"result_files\": [],\n",
       "      \"status\": \"pending\",\n",
       "      \"training_files\": [\n",
       "        {\n",
       "          \"bytes\": 4708,\n",
       "          \"created_at\": 1687113163,\n",
       "          \"filename\": \"file\",\n",
       "          \"id\": \"file-D9znyKJPuuI1DQ8Gpmdgyji8\",\n",
       "          \"object\": \"file\",\n",
       "          \"purpose\": \"fine-tune\",\n",
       "          \"status\": \"processed\",\n",
       "          \"status_details\": null\n",
       "        }\n",
       "      ],\n",
       "      \"updated_at\": 1687113263,\n",
       "      \"validation_files\": []\n",
       "    },\n",
       "    {\n",
       "      \"created_at\": 1687113548,\n",
       "      \"fine_tuned_model\": null,\n",
       "      \"hyperparams\": {\n",
       "        \"batch_size\": null,\n",
       "        \"learning_rate_multiplier\": null,\n",
       "        \"n_epochs\": 4,\n",
       "        \"prompt_loss_weight\": 0.01\n",
       "      },\n",
       "      \"id\": \"ft-eQekbr32V3ud5gCT4uB2MF3k\",\n",
       "      \"model\": \"curie\",\n",
       "      \"object\": \"fine-tune\",\n",
       "      \"organization_id\": \"org-vEiwthoCbMO1wp6DrXzyRMxP\",\n",
       "      \"result_files\": [],\n",
       "      \"status\": \"pending\",\n",
       "      \"training_files\": [\n",
       "        {\n",
       "          \"bytes\": 4708,\n",
       "          \"created_at\": 1687113163,\n",
       "          \"filename\": \"file\",\n",
       "          \"id\": \"file-D9znyKJPuuI1DQ8Gpmdgyji8\",\n",
       "          \"object\": \"file\",\n",
       "          \"purpose\": \"fine-tune\",\n",
       "          \"status\": \"processed\",\n",
       "          \"status_details\": null\n",
       "        }\n",
       "      ],\n",
       "      \"updated_at\": 1687113548,\n",
       "      \"validation_files\": []\n",
       "    }\n",
       "  ],\n",
       "  \"object\": \"list\"\n",
       "}"
      ]
     },
     "execution_count": 31,
     "metadata": {},
     "output_type": "execute_result"
    }
   ],
   "source": [
    "openai.FineTune.list()"
   ]
  },
  {
   "cell_type": "code",
   "execution_count": 35,
   "id": "a2ac48d8",
   "metadata": {},
   "outputs": [
    {
     "name": "stdout",
     "output_type": "stream",
     "text": [
      "{\n",
      "  \"created_at\": 1687113548,\n",
      "  \"events\": [\n",
      "    {\n",
      "      \"created_at\": 1687113548,\n",
      "      \"level\": \"info\",\n",
      "      \"message\": \"Created fine-tune: ft-eQekbr32V3ud5gCT4uB2MF3k\",\n",
      "      \"object\": \"fine-tune-event\"\n",
      "    }\n",
      "  ],\n",
      "  \"fine_tuned_model\": null,\n",
      "  \"hyperparams\": {\n",
      "    \"batch_size\": null,\n",
      "    \"learning_rate_multiplier\": null,\n",
      "    \"n_epochs\": 4,\n",
      "    \"prompt_loss_weight\": 0.01\n",
      "  },\n",
      "  \"id\": \"ft-eQekbr32V3ud5gCT4uB2MF3k\",\n",
      "  \"model\": \"curie\",\n",
      "  \"object\": \"fine-tune\",\n",
      "  \"organization_id\": \"org-vEiwthoCbMO1wp6DrXzyRMxP\",\n",
      "  \"result_files\": [],\n",
      "  \"status\": \"pending\",\n",
      "  \"training_files\": [\n",
      "    {\n",
      "      \"bytes\": 4708,\n",
      "      \"created_at\": 1687113163,\n",
      "      \"filename\": \"file\",\n",
      "      \"id\": \"file-D9znyKJPuuI1DQ8Gpmdgyji8\",\n",
      "      \"object\": \"file\",\n",
      "      \"purpose\": \"fine-tune\",\n",
      "      \"status\": \"processed\",\n",
      "      \"status_details\": null\n",
      "    }\n",
      "  ],\n",
      "  \"updated_at\": 1687113548,\n",
      "  \"validation_files\": []\n",
      "}\n"
     ]
    }
   ],
   "source": [
    "fine_tuned_model = openai.FineTune.retrieve(id=fine_tune_response.id)\n",
    "print(fine_tuned_model)"
   ]
  },
  {
   "cell_type": "code",
   "execution_count": 38,
   "id": "816d6a10",
   "metadata": {},
   "outputs": [
    {
     "data": {
      "text/plain": [
       "<OpenAIObject list at 0x7f79588bcae0> JSON: {\n",
       "  \"data\": [\n",
       "    {\n",
       "      \"created_at\": 1687113168,\n",
       "      \"fine_tuned_model\": null,\n",
       "      \"hyperparams\": {\n",
       "        \"batch_size\": 1,\n",
       "        \"learning_rate_multiplier\": 0.1,\n",
       "        \"n_epochs\": 4,\n",
       "        \"prompt_loss_weight\": 0.01\n",
       "      },\n",
       "      \"id\": \"ft-vddYJn4wTBeKhVkN6GlVg8bE\",\n",
       "      \"model\": \"curie\",\n",
       "      \"object\": \"fine-tune\",\n",
       "      \"organization_id\": \"org-vEiwthoCbMO1wp6DrXzyRMxP\",\n",
       "      \"result_files\": [],\n",
       "      \"status\": \"pending\",\n",
       "      \"training_files\": [\n",
       "        {\n",
       "          \"bytes\": 4708,\n",
       "          \"created_at\": 1687113163,\n",
       "          \"filename\": \"file\",\n",
       "          \"id\": \"file-D9znyKJPuuI1DQ8Gpmdgyji8\",\n",
       "          \"object\": \"file\",\n",
       "          \"purpose\": \"fine-tune\",\n",
       "          \"status\": \"processed\",\n",
       "          \"status_details\": null\n",
       "        }\n",
       "      ],\n",
       "      \"updated_at\": 1687113783,\n",
       "      \"validation_files\": []\n",
       "    },\n",
       "    {\n",
       "      \"created_at\": 1687113263,\n",
       "      \"fine_tuned_model\": null,\n",
       "      \"hyperparams\": {\n",
       "        \"batch_size\": null,\n",
       "        \"learning_rate_multiplier\": null,\n",
       "        \"n_epochs\": 4,\n",
       "        \"prompt_loss_weight\": 0.01\n",
       "      },\n",
       "      \"id\": \"ft-UIdNUTyt0sJDPAoio01NA4iK\",\n",
       "      \"model\": \"curie\",\n",
       "      \"object\": \"fine-tune\",\n",
       "      \"organization_id\": \"org-vEiwthoCbMO1wp6DrXzyRMxP\",\n",
       "      \"result_files\": [],\n",
       "      \"status\": \"pending\",\n",
       "      \"training_files\": [\n",
       "        {\n",
       "          \"bytes\": 4708,\n",
       "          \"created_at\": 1687113163,\n",
       "          \"filename\": \"file\",\n",
       "          \"id\": \"file-D9znyKJPuuI1DQ8Gpmdgyji8\",\n",
       "          \"object\": \"file\",\n",
       "          \"purpose\": \"fine-tune\",\n",
       "          \"status\": \"processed\",\n",
       "          \"status_details\": null\n",
       "        }\n",
       "      ],\n",
       "      \"updated_at\": 1687113263,\n",
       "      \"validation_files\": []\n",
       "    },\n",
       "    {\n",
       "      \"created_at\": 1687113548,\n",
       "      \"fine_tuned_model\": null,\n",
       "      \"hyperparams\": {\n",
       "        \"batch_size\": null,\n",
       "        \"learning_rate_multiplier\": null,\n",
       "        \"n_epochs\": 4,\n",
       "        \"prompt_loss_weight\": 0.01\n",
       "      },\n",
       "      \"id\": \"ft-eQekbr32V3ud5gCT4uB2MF3k\",\n",
       "      \"model\": \"curie\",\n",
       "      \"object\": \"fine-tune\",\n",
       "      \"organization_id\": \"org-vEiwthoCbMO1wp6DrXzyRMxP\",\n",
       "      \"result_files\": [],\n",
       "      \"status\": \"pending\",\n",
       "      \"training_files\": [\n",
       "        {\n",
       "          \"bytes\": 4708,\n",
       "          \"created_at\": 1687113163,\n",
       "          \"filename\": \"file\",\n",
       "          \"id\": \"file-D9znyKJPuuI1DQ8Gpmdgyji8\",\n",
       "          \"object\": \"file\",\n",
       "          \"purpose\": \"fine-tune\",\n",
       "          \"status\": \"processed\",\n",
       "          \"status_details\": null\n",
       "        }\n",
       "      ],\n",
       "      \"updated_at\": 1687113548,\n",
       "      \"validation_files\": []\n",
       "    }\n",
       "  ],\n",
       "  \"object\": \"list\"\n",
       "}"
      ]
     },
     "execution_count": 38,
     "metadata": {},
     "output_type": "execute_result"
    }
   ],
   "source": [
    "openai.FineTune.list()"
   ]
  },
  {
   "cell_type": "code",
   "execution_count": null,
   "id": "0616dd72",
   "metadata": {},
   "outputs": [],
   "source": [
    "if fine_tune_response.fine_tuned_model != None:\n",
    "    fine_tuned_model = fine_tune_response.fine_tuned_model"
   ]
  },
  {
   "cell_type": "code",
   "execution_count": 27,
   "id": "35e6203b",
   "metadata": {},
   "outputs": [],
   "source": [
    "# if fine_tune_response.fine_tuned_model == None:\n",
    "#     fine_tuned_model = openai.FineTune.retrieve(id=fine_tune_response.id).fine_tuned_model\n",
    "\n",
    "fine_tuned_model = openai.FineTune.retrieve(id=fine_tune_response.id).fine_tuned_model\n"
   ]
  },
  {
   "cell_type": "code",
   "execution_count": 28,
   "id": "ece0c335",
   "metadata": {},
   "outputs": [
    {
     "name": "stdout",
     "output_type": "stream",
     "text": [
      "None\n"
     ]
    }
   ],
   "source": [
    "# export model\n",
    "fine_tuned_model = openai.FineTune.retrieve(id=fine_tune_response.id).fine_tuned_model"
   ]
  }
 ],
 "metadata": {
  "kernelspec": {
   "display_name": "Python 3.9.5 64-bit",
   "language": "python",
   "name": "python3"
  },
  "language_info": {
   "codemirror_mode": {
    "name": "ipython",
    "version": 3
   },
   "file_extension": ".py",
   "mimetype": "text/x-python",
   "name": "python",
   "nbconvert_exporter": "python",
   "pygments_lexer": "ipython3",
   "version": "3.9.5"
  },
  "vscode": {
   "interpreter": {
    "hash": "aee8b7b246df8f9039afb4144a1f6fd8d2ca17a180786b69acc140d282b71a49"
   }
  }
 },
 "nbformat": 4,
 "nbformat_minor": 5
}
