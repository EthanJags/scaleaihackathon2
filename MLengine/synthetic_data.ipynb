{
  "cells": [
    {
      "cell_type": "markdown",
      "metadata": {
        "id": "0joqdbKedFtm"
      },
      "source": [
        "<h3> Generating Synthetic Data using GANs</h3>"
      ]
    },
    {
      "cell_type": "markdown",
      "metadata": {
        "id": "aCb4iUtAdFto"
      },
      "source": [
        "\n",
        "Typically GANs are used to generate images. However, we can also generate tabular data from a GAN [Cite:ashrapov2020tabular](https://arxiv.org/pdf/2010.00638.pdf)"
      ]
    },
    {
      "cell_type": "code",
      "execution_count": 2,
      "metadata": {
        "colab": {
          "base_uri": "https://localhost:8080/"
        },
        "id": "5-iTPkSWdsGa",
        "outputId": "65e58365-54ad-459b-aad4-3b5dbad8b49a"
      },
      "outputs": [
        {
          "name": "stdout",
          "output_type": "stream",
          "text": [
            "--2023-07-15 22:35:26--  https://raw.githubusercontent.com/Diyago/GAN-for-tabular-data/master/requirements.txt\n",
            "Resolving raw.githubusercontent.com (raw.githubusercontent.com)... 185.199.108.133, 185.199.109.133, 185.199.110.133, ...\n",
            "Connecting to raw.githubusercontent.com (raw.githubusercontent.com)|185.199.108.133|:443... connected.\n",
            "HTTP request sent, awaiting response... 200 OK\n",
            "Length: 183 [text/plain]\n",
            "Saving to: ‘requirements.txt.1’\n",
            "\n",
            "\rrequirements.txt.1    0%[                    ]       0  --.-KB/s               \rrequirements.txt.1  100%[===================>]     183  --.-KB/s    in 0s      \n",
            "\n",
            "2023-07-15 22:35:26 (8.46 MB/s) - ‘requirements.txt.1’ saved [183/183]\n",
            "\n",
            "Requirement already satisfied: scipy>=1.4.1 in /usr/local/lib/python3.10/dist-packages (from -r requirements.txt (line 1)) (1.11.1)\n",
            "Requirement already satisfied: category_encoders==2.1.0 in /usr/local/lib/python3.10/dist-packages (from -r requirements.txt (line 2)) (2.1.0)\n",
            "Requirement already satisfied: numpy>=1.22.0 in /usr/local/lib/python3.10/dist-packages (from -r requirements.txt (line 3)) (1.22.0)\n",
            "Requirement already satisfied: torch>=1.6.0 in /usr/local/lib/python3.10/dist-packages (from -r requirements.txt (line 4)) (2.0.1+cu118)\n",
            "Requirement already satisfied: pandas>=1.2.2 in /usr/local/lib/python3.10/dist-packages (from -r requirements.txt (line 5)) (1.5.3)\n",
            "Requirement already satisfied: lightgbm>=2.2.3 in /usr/local/lib/python3.10/dist-packages (from -r requirements.txt (line 6)) (3.3.5)\n",
            "Requirement already satisfied: scikit_learn>=1.0.2 in /usr/local/lib/python3.10/dist-packages (from -r requirements.txt (line 7)) (1.2.2)\n",
            "Requirement already satisfied: torchvision>=0.4.2 in /usr/local/lib/python3.10/dist-packages (from -r requirements.txt (line 8)) (0.15.2+cu118)\n",
            "Requirement already satisfied: python-dateutil==2.8.1 in /usr/local/lib/python3.10/dist-packages (from -r requirements.txt (line 10)) (2.8.1)\n",
            "Requirement already satisfied: tqdm>=4.61.1 in /usr/local/lib/python3.10/dist-packages (from -r requirements.txt (line 11)) (4.65.0)\n",
            "Requirement already satisfied: statsmodels>=0.6.1 in /usr/local/lib/python3.10/dist-packages (from category_encoders==2.1.0->-r requirements.txt (line 2)) (0.13.5)\n",
            "Requirement already satisfied: patsy>=0.4.1 in /usr/local/lib/python3.10/dist-packages (from category_encoders==2.1.0->-r requirements.txt (line 2)) (0.5.3)\n",
            "Requirement already satisfied: six>=1.5 in /usr/local/lib/python3.10/dist-packages (from python-dateutil==2.8.1->-r requirements.txt (line 10)) (1.16.0)\n",
            "Requirement already satisfied: filelock in /usr/local/lib/python3.10/dist-packages (from torch>=1.6.0->-r requirements.txt (line 4)) (3.12.2)\n",
            "Requirement already satisfied: typing-extensions in /usr/local/lib/python3.10/dist-packages (from torch>=1.6.0->-r requirements.txt (line 4)) (4.7.1)\n",
            "Requirement already satisfied: sympy in /usr/local/lib/python3.10/dist-packages (from torch>=1.6.0->-r requirements.txt (line 4)) (1.11.1)\n",
            "Requirement already satisfied: networkx in /usr/local/lib/python3.10/dist-packages (from torch>=1.6.0->-r requirements.txt (line 4)) (3.1)\n",
            "Requirement already satisfied: jinja2 in /usr/local/lib/python3.10/dist-packages (from torch>=1.6.0->-r requirements.txt (line 4)) (3.1.2)\n",
            "Requirement already satisfied: triton==2.0.0 in /usr/local/lib/python3.10/dist-packages (from torch>=1.6.0->-r requirements.txt (line 4)) (2.0.0)\n",
            "Requirement already satisfied: cmake in /usr/local/lib/python3.10/dist-packages (from triton==2.0.0->torch>=1.6.0->-r requirements.txt (line 4)) (3.25.2)\n",
            "Requirement already satisfied: lit in /usr/local/lib/python3.10/dist-packages (from triton==2.0.0->torch>=1.6.0->-r requirements.txt (line 4)) (16.0.6)\n",
            "Requirement already satisfied: pytz>=2020.1 in /usr/local/lib/python3.10/dist-packages (from pandas>=1.2.2->-r requirements.txt (line 5)) (2022.7.1)\n",
            "Requirement already satisfied: wheel in /usr/local/lib/python3.10/dist-packages (from lightgbm>=2.2.3->-r requirements.txt (line 6)) (0.40.0)\n",
            "Requirement already satisfied: joblib>=1.1.1 in /usr/local/lib/python3.10/dist-packages (from scikit_learn>=1.0.2->-r requirements.txt (line 7)) (1.3.1)\n",
            "Requirement already satisfied: threadpoolctl>=2.0.0 in /usr/local/lib/python3.10/dist-packages (from scikit_learn>=1.0.2->-r requirements.txt (line 7)) (3.1.0)\n",
            "Requirement already satisfied: requests in /usr/local/lib/python3.10/dist-packages (from torchvision>=0.4.2->-r requirements.txt (line 8)) (2.27.1)\n",
            "Requirement already satisfied: pillow!=8.3.*,>=5.3.0 in /usr/local/lib/python3.10/dist-packages (from torchvision>=0.4.2->-r requirements.txt (line 8)) (8.4.0)\n",
            "Requirement already satisfied: packaging>=21.3 in /usr/local/lib/python3.10/dist-packages (from statsmodels>=0.6.1->category_encoders==2.1.0->-r requirements.txt (line 2)) (23.1)\n",
            "Requirement already satisfied: MarkupSafe>=2.0 in /usr/local/lib/python3.10/dist-packages (from jinja2->torch>=1.6.0->-r requirements.txt (line 4)) (2.1.3)\n",
            "Requirement already satisfied: urllib3<1.27,>=1.21.1 in /usr/local/lib/python3.10/dist-packages (from requests->torchvision>=0.4.2->-r requirements.txt (line 8)) (1.26.16)\n",
            "Requirement already satisfied: certifi>=2017.4.17 in /usr/local/lib/python3.10/dist-packages (from requests->torchvision>=0.4.2->-r requirements.txt (line 8)) (2023.5.7)\n",
            "Requirement already satisfied: charset-normalizer~=2.0.0 in /usr/local/lib/python3.10/dist-packages (from requests->torchvision>=0.4.2->-r requirements.txt (line 8)) (2.0.12)\n",
            "Requirement already satisfied: idna<4,>=2.5 in /usr/local/lib/python3.10/dist-packages (from requests->torchvision>=0.4.2->-r requirements.txt (line 8)) (3.4)\n",
            "Requirement already satisfied: mpmath>=0.19 in /usr/local/lib/python3.10/dist-packages (from sympy->torch>=1.6.0->-r requirements.txt (line 4)) (1.3.0)\n",
            "Requirement already satisfied: tabgan in /usr/local/lib/python3.10/dist-packages (1.3.2)\n",
            "Requirement already satisfied: pandas in /usr/local/lib/python3.10/dist-packages (from tabgan) (1.5.3)\n",
            "Requirement already satisfied: numpy in /usr/local/lib/python3.10/dist-packages (from tabgan) (1.22.0)\n",
            "Requirement already satisfied: category-encoders in /usr/local/lib/python3.10/dist-packages (from tabgan) (2.1.0)\n",
            "Requirement already satisfied: torch>=1.0 in /usr/local/lib/python3.10/dist-packages (from tabgan) (2.0.1+cu118)\n",
            "Requirement already satisfied: lightgbm>=2.2.3 in /usr/local/lib/python3.10/dist-packages (from tabgan) (3.3.5)\n",
            "Requirement already satisfied: scikit-learn>=1.0.2 in /usr/local/lib/python3.10/dist-packages (from tabgan) (1.2.2)\n",
            "Requirement already satisfied: torchvision in /usr/local/lib/python3.10/dist-packages (from tabgan) (0.15.2+cu118)\n",
            "Requirement already satisfied: python-dateutil in /usr/local/lib/python3.10/dist-packages (from tabgan) (2.8.1)\n",
            "Requirement already satisfied: tqdm in /usr/local/lib/python3.10/dist-packages (from tabgan) (4.65.0)\n",
            "Requirement already satisfied: wheel in /usr/local/lib/python3.10/dist-packages (from lightgbm>=2.2.3->tabgan) (0.40.0)\n",
            "Requirement already satisfied: scipy in /usr/local/lib/python3.10/dist-packages (from lightgbm>=2.2.3->tabgan) (1.11.1)\n",
            "Requirement already satisfied: joblib>=1.1.1 in /usr/local/lib/python3.10/dist-packages (from scikit-learn>=1.0.2->tabgan) (1.3.1)\n",
            "Requirement already satisfied: threadpoolctl>=2.0.0 in /usr/local/lib/python3.10/dist-packages (from scikit-learn>=1.0.2->tabgan) (3.1.0)\n",
            "Requirement already satisfied: filelock in /usr/local/lib/python3.10/dist-packages (from torch>=1.0->tabgan) (3.12.2)\n",
            "Requirement already satisfied: typing-extensions in /usr/local/lib/python3.10/dist-packages (from torch>=1.0->tabgan) (4.7.1)\n",
            "Requirement already satisfied: sympy in /usr/local/lib/python3.10/dist-packages (from torch>=1.0->tabgan) (1.11.1)\n",
            "Requirement already satisfied: networkx in /usr/local/lib/python3.10/dist-packages (from torch>=1.0->tabgan) (3.1)\n",
            "Requirement already satisfied: jinja2 in /usr/local/lib/python3.10/dist-packages (from torch>=1.0->tabgan) (3.1.2)\n",
            "Requirement already satisfied: triton==2.0.0 in /usr/local/lib/python3.10/dist-packages (from torch>=1.0->tabgan) (2.0.0)\n",
            "Requirement already satisfied: cmake in /usr/local/lib/python3.10/dist-packages (from triton==2.0.0->torch>=1.0->tabgan) (3.25.2)\n",
            "Requirement already satisfied: lit in /usr/local/lib/python3.10/dist-packages (from triton==2.0.0->torch>=1.0->tabgan) (16.0.6)\n",
            "Requirement already satisfied: statsmodels>=0.6.1 in /usr/local/lib/python3.10/dist-packages (from category-encoders->tabgan) (0.13.5)\n",
            "Requirement already satisfied: patsy>=0.4.1 in /usr/local/lib/python3.10/dist-packages (from category-encoders->tabgan) (0.5.3)\n",
            "Requirement already satisfied: pytz>=2020.1 in /usr/local/lib/python3.10/dist-packages (from pandas->tabgan) (2022.7.1)\n",
            "Requirement already satisfied: six>=1.5 in /usr/local/lib/python3.10/dist-packages (from python-dateutil->tabgan) (1.16.0)\n",
            "Requirement already satisfied: requests in /usr/local/lib/python3.10/dist-packages (from torchvision->tabgan) (2.27.1)\n",
            "Requirement already satisfied: pillow!=8.3.*,>=5.3.0 in /usr/local/lib/python3.10/dist-packages (from torchvision->tabgan) (8.4.0)\n",
            "Requirement already satisfied: packaging>=21.3 in /usr/local/lib/python3.10/dist-packages (from statsmodels>=0.6.1->category-encoders->tabgan) (23.1)\n",
            "Requirement already satisfied: MarkupSafe>=2.0 in /usr/local/lib/python3.10/dist-packages (from jinja2->torch>=1.0->tabgan) (2.1.3)\n",
            "Requirement already satisfied: urllib3<1.27,>=1.21.1 in /usr/local/lib/python3.10/dist-packages (from requests->torchvision->tabgan) (1.26.16)\n",
            "Requirement already satisfied: certifi>=2017.4.17 in /usr/local/lib/python3.10/dist-packages (from requests->torchvision->tabgan) (2023.5.7)\n",
            "Requirement already satisfied: charset-normalizer~=2.0.0 in /usr/local/lib/python3.10/dist-packages (from requests->torchvision->tabgan) (2.0.12)\n",
            "Requirement already satisfied: idna<4,>=2.5 in /usr/local/lib/python3.10/dist-packages (from requests->torchvision->tabgan) (3.4)\n",
            "Requirement already satisfied: mpmath>=0.19 in /usr/local/lib/python3.10/dist-packages (from sympy->torch>=1.0->tabgan) (1.3.0)\n"
          ]
        }
      ],
      "source": [
        "# HIDE OUTPUT\n",
        "CMD = \"wget https://raw.githubusercontent.com/Diyago/\"\\\n",
        "  \"GAN-for-tabular-data/master/requirements.txt\"\n",
        "\n",
        "!{CMD}\n",
        "!pip install -r requirements.txt\n",
        "!pip install tabgan"
      ]
    },
    {
      "cell_type": "code",
      "execution_count": null,
      "metadata": {},
      "outputs": [],
      "source": [
        "def convert_arrays_to_csv(file_path):\n",
        "    # Read the array of arrays from the .txt file\n",
        "    with open(file_path, 'r') as file:\n",
        "        array_of_arrays = np.array(eval(file.read()))\n",
        "\n",
        "    # Convert the array of arrays to a DataFrame\n",
        "    file_path = 'path/to/your/file.txt'\n",
        "    df = convert_arrays_to_csv(file_path)\n",
        "\n",
        "    # Save the DataFrame to a CSV file\n",
        "    csv_file_path = file_path.replace('.txt', '.csv')\n",
        "    df.to_csv(csv_file_path, index=False)\n",
        "\n",
        "    # Assign df to the newly created CSV file\n",
        "    df = pd.read_csv(csv_file_path)\n",
        "\n",
        "    return df"
      ]
    },
    {
      "cell_type": "code",
      "execution_count": 10,
      "metadata": {
        "id": "-YRAjvvMeWuz"
      },
      "outputs": [],
      "source": [
        "# HIDE OUTPUT\n",
        "from tensorflow.keras.models import Sequential\n",
        "from tensorflow.keras.layers import Dense, Activation\n",
        "from tensorflow.keras.callbacks import EarlyStopping\n",
        "from sklearn.model_selection import train_test_split\n",
        "import pandas as pd\n",
        "import io\n",
        "import os\n",
        "import requests\n",
        "import numpy as np\n",
        "from sklearn import metrics\n",
        "\n",
        "df = pd.read_csv(\"sample_data/stl.csv\")\n",
        "\n",
        "COLS_USED = [\"NUM_FINGERS\",\n",
        "    \"PSI_MIN\",\n",
        "    \"PSI_MAX\",\n",
        "    \"PRINT_TIME_HOURS\",\n",
        "    \"BEND_RANGE_ANGLE\",\n",
        "    \"PERFORMANCE\",\n",
        "    \"OBJ_CONTRACT\",\n",
        "    \"OBJ_EXPAND\",\n",
        "    \"OBJ_SPHERICAL\",\n",
        "    \"OBJ_LINEAR\",\n",
        "    \"UTZ_CONTROL\",\n",
        "    \"UTZ_MANIPULATION\",\n",
        "    \"OUTPUT\"]\n",
        "\n",
        "COLS_TRAIN = [\"NUM_FINGERS\",\n",
        "    \"PSI_MIN\",\n",
        "    \"PSI_MAX\",\n",
        "    \"PRINT_TIME_HOURS\",\n",
        "    \"BEND_RANGE_ANGLE\",\n",
        "    \"PERFORMANCE\",\n",
        "    \"OBJ_CONTRACT\",\n",
        "    \"OBJ_EXPAND\",\n",
        "    \"OBJ_SPHERICAL\",\n",
        "    \"OBJ_LINEAR\",\n",
        "    \"UTZ_CONTROL\",\n",
        "    \"UTZ_MANIPULATION\",\n",
        "              ]\n",
        "df = df[COLS_USED]\n",
        "\n",
        "\n",
        "# Split into training and test sets\n",
        "df_x_train, df_x_test, df_y_train, df_y_test = train_test_split(\n",
        "    df.drop(\"OUTPUT\", axis=1),\n",
        "    df[\"OUTPUT\"],\n",
        "    test_size=10,\n",
        "    #shuffle=False,\n",
        "    random_state=42,\n",
        ")\n",
        "\n",
        "# Create dataframe versions for tabular GAN\n",
        "df_x_test, df_y_test = df_x_test.reset_index(drop=True), \\\n",
        "  df_y_test.reset_index(drop=True)\n",
        "df_y_train = pd.DataFrame(df_y_train)\n",
        "df_y_test = pd.DataFrame(df_y_test)\n",
        "\n",
        "# Pandas to Numpy\n",
        "x_train = df_x_train.values\n",
        "x_test = df_x_test.values\n",
        "y_train = df_y_train.values\n",
        "y_test = df_y_test.values\n",
        "\n",
        "# Build the neural network\n",
        "model = Sequential()\n",
        "# Hidden 1\n",
        "model.add(Dense(50, input_dim=x_train.shape[1], activation='relu'))\n",
        "model.add(Dense(25, activation='relu')) # Hidden 2\n",
        "model.add(Dense(12, activation='relu')) # Hidden 2\n",
        "model.add(Dense(1)) # Output\n",
        "model.compile(loss='mean_squared_error', optimizer='adam')\n",
        "\n",
        "# monitor = EarlyStopping(monitor='val_loss', min_delta=1e-3,\n",
        "#         patience=5, verbose=1, mode='auto',\n",
        "#         restore_best_weights=True)\n",
        "# model.fit(x_train,y_train,validation_data=(x_test,y_test),callbacks=[monitor], verbose=2,epochs=1000)"
      ]
    },
    {
      "cell_type": "markdown",
      "metadata": {
        "id": "YeR9CQ5weQDB"
      },
      "source": [
        "We now evaluate the trained neural network to see the RMSE. We will use this trained neural network to compare the accuracy between the original data and the GAN-generated data"
      ]
    },
    {
      "cell_type": "code",
      "execution_count": null,
      "metadata": {
        "colab": {
          "base_uri": "https://localhost:8080/",
          "height": 204
        },
        "id": "WFijxBaufVzr",
        "outputId": "3efd70d0-8cfb-41a3-e729-88905cb48704"
      },
      "outputs": [],
      "source": [
        "pred = model.predict(x_test)\n",
        "score = np.sqrt(metrics.mean_squared_error(pred,y_test))\n",
        "print(\"Final score (RMSE): {}\".format(score))"
      ]
    },
    {
      "cell_type": "code",
      "execution_count": null,
      "metadata": {
        "id": "mI-D_TB1s0gZ"
      },
      "outputs": [],
      "source": [
        "df_x_train"
      ]
    },
    {
      "cell_type": "markdown",
      "metadata": {
        "id": "0k33foL3eTDN"
      },
      "source": [
        "## Training a GAN\n",
        "\n",
        "Next, we will train the GAN to generate fake data from the original  data"
      ]
    },
    {
      "cell_type": "code",
      "execution_count": null,
      "metadata": {
        "colab": {
          "base_uri": "https://localhost:8080/",
          "height": 475,
          "referenced_widgets": [
            "b98cae329655415a857e7012ec23c8c6",
            "7c4a252494ef4fb6a8f962de931e323d",
            "7a2163ead58f4a878842444d8f959ed1",
            "c9c509377fe5492da058d539eaaad6e2",
            "8a817c30ae654310b00f143f3413c558",
            "ed414860370840c1a2f84e2133a26028",
            "3f97c78348cc48a0b7987060465391f6",
            "0802b3f98db34c589c63eeb7576ce534",
            "a8465f08eee74baa92a6a8a821c3542a",
            "15ed34ddfdc741aa8e86e32e0e3c3879",
            "670d125756d3446aa7570a0e779fa348"
          ]
        },
        "id": "L-i4CdwYkgLU",
        "outputId": "52852401-2065-404f-ab48-717c0b6a2396"
      },
      "outputs": [],
      "source": [
        "from tabgan.sampler import GANGenerator\n",
        "import pandas as pd\n",
        "import numpy as np\n",
        "from sklearn.model_selection import train_test_split\n",
        "\n",
        "gen_x, gen_y = GANGenerator(gen_x_times=1.1, cat_cols=None,\n",
        "           bot_filter_quantile=0.001, top_filter_quantile=0.999, \\\n",
        "              is_post_process=True,\n",
        "           adversarial_model_params={\n",
        "               \"metrics\": \"rmse\", \"max_depth\": 2, \"max_bin\": 100,\n",
        "               \"learning_rate\": 0.02, \"random_state\": \\\n",
        "                42, \"n_estimators\": 500,\n",
        "           }, pregeneration_frac=2, only_generated_data=False,\\\n",
        "           gan_params = {\"batch_size\": 500, \"patience\": 25, \\\n",
        "          \"epochs\" : 500,}).generate_data_pipe(df_x_train, df_y_train,\\\n",
        "          df_x_test, deep_copy=True, only_adversarial=False, \\\n",
        "          use_adversarial=True)\n",
        "\n"
      ]
    },
    {
      "cell_type": "code",
      "execution_count": null,
      "metadata": {
        "colab": {
          "base_uri": "https://localhost:8080/"
        },
        "id": "BXoMORyHCU0o",
        "outputId": "21196542-b7e4-4c72-cd47-5f10ec96533b"
      },
      "outputs": [
        {
          "name": "stdout",
          "output_type": "stream",
          "text": [
            "Final score (RMSE): 9.083745225633098\n"
          ]
        }
      ],
      "source": [
        "# Predict\n",
        "pred = model.predict(gen_x.values)\n",
        "score = np.sqrt(metrics.mean_squared_error(pred,gen_y.values))\n",
        "print(\"Final score (RMSE): {}\".format(score))"
      ]
    }
  ],
  "metadata": {
    "accelerator": "TPU",
    "anaconda-cloud": {},
    "colab": {
      "provenance": []
    },
    "kernelspec": {
      "display_name": "Python 3.9.5 64-bit",
      "language": "python",
      "name": "python3"
    },
    "language_info": {
      "codemirror_mode": {
        "name": "ipython",
        "version": 3
      },
      "file_extension": ".py",
      "mimetype": "text/x-python",
      "name": "python",
      "nbconvert_exporter": "python",
      "pygments_lexer": "ipython3",
      "version": "3.9.5"
    },
    "vscode": {
      "interpreter": {
        "hash": "aee8b7b246df8f9039afb4144a1f6fd8d2ca17a180786b69acc140d282b71a49"
      }
    },
    "widgets": {
      "application/vnd.jupyter.widget-state+json": {
        "0802b3f98db34c589c63eeb7576ce534": {
          "model_module": "@jupyter-widgets/base",
          "model_module_version": "1.2.0",
          "model_name": "LayoutModel",
          "state": {
            "_model_module": "@jupyter-widgets/base",
            "_model_module_version": "1.2.0",
            "_model_name": "LayoutModel",
            "_view_count": null,
            "_view_module": "@jupyter-widgets/base",
            "_view_module_version": "1.2.0",
            "_view_name": "LayoutView",
            "align_content": null,
            "align_items": null,
            "align_self": null,
            "border": null,
            "bottom": null,
            "display": null,
            "flex": null,
            "flex_flow": null,
            "grid_area": null,
            "grid_auto_columns": null,
            "grid_auto_flow": null,
            "grid_auto_rows": null,
            "grid_column": null,
            "grid_gap": null,
            "grid_row": null,
            "grid_template_areas": null,
            "grid_template_columns": null,
            "grid_template_rows": null,
            "height": null,
            "justify_content": null,
            "justify_items": null,
            "left": null,
            "margin": null,
            "max_height": null,
            "max_width": null,
            "min_height": null,
            "min_width": null,
            "object_fit": null,
            "object_position": null,
            "order": null,
            "overflow": null,
            "overflow_x": null,
            "overflow_y": null,
            "padding": null,
            "right": null,
            "top": null,
            "visibility": null,
            "width": null
          }
        },
        "15ed34ddfdc741aa8e86e32e0e3c3879": {
          "model_module": "@jupyter-widgets/base",
          "model_module_version": "1.2.0",
          "model_name": "LayoutModel",
          "state": {
            "_model_module": "@jupyter-widgets/base",
            "_model_module_version": "1.2.0",
            "_model_name": "LayoutModel",
            "_view_count": null,
            "_view_module": "@jupyter-widgets/base",
            "_view_module_version": "1.2.0",
            "_view_name": "LayoutView",
            "align_content": null,
            "align_items": null,
            "align_self": null,
            "border": null,
            "bottom": null,
            "display": null,
            "flex": null,
            "flex_flow": null,
            "grid_area": null,
            "grid_auto_columns": null,
            "grid_auto_flow": null,
            "grid_auto_rows": null,
            "grid_column": null,
            "grid_gap": null,
            "grid_row": null,
            "grid_template_areas": null,
            "grid_template_columns": null,
            "grid_template_rows": null,
            "height": null,
            "justify_content": null,
            "justify_items": null,
            "left": null,
            "margin": null,
            "max_height": null,
            "max_width": null,
            "min_height": null,
            "min_width": null,
            "object_fit": null,
            "object_position": null,
            "order": null,
            "overflow": null,
            "overflow_x": null,
            "overflow_y": null,
            "padding": null,
            "right": null,
            "top": null,
            "visibility": null,
            "width": null
          }
        },
        "3f97c78348cc48a0b7987060465391f6": {
          "model_module": "@jupyter-widgets/controls",
          "model_module_version": "1.5.0",
          "model_name": "DescriptionStyleModel",
          "state": {
            "_model_module": "@jupyter-widgets/controls",
            "_model_module_version": "1.5.0",
            "_model_name": "DescriptionStyleModel",
            "_view_count": null,
            "_view_module": "@jupyter-widgets/base",
            "_view_module_version": "1.2.0",
            "_view_name": "StyleView",
            "description_width": ""
          }
        },
        "670d125756d3446aa7570a0e779fa348": {
          "model_module": "@jupyter-widgets/controls",
          "model_module_version": "1.5.0",
          "model_name": "DescriptionStyleModel",
          "state": {
            "_model_module": "@jupyter-widgets/controls",
            "_model_module_version": "1.5.0",
            "_model_name": "DescriptionStyleModel",
            "_view_count": null,
            "_view_module": "@jupyter-widgets/base",
            "_view_module_version": "1.2.0",
            "_view_name": "StyleView",
            "description_width": ""
          }
        },
        "7a2163ead58f4a878842444d8f959ed1": {
          "model_module": "@jupyter-widgets/controls",
          "model_module_version": "1.5.0",
          "model_name": "FloatProgressModel",
          "state": {
            "_dom_classes": [],
            "_model_module": "@jupyter-widgets/controls",
            "_model_module_version": "1.5.0",
            "_model_name": "FloatProgressModel",
            "_view_count": null,
            "_view_module": "@jupyter-widgets/controls",
            "_view_module_version": "1.5.0",
            "_view_name": "ProgressView",
            "bar_style": "danger",
            "description": "",
            "description_tooltip": null,
            "layout": "IPY_MODEL_0802b3f98db34c589c63eeb7576ce534",
            "max": 13,
            "min": 0,
            "orientation": "horizontal",
            "style": "IPY_MODEL_a8465f08eee74baa92a6a8a821c3542a",
            "value": 12
          }
        },
        "7c4a252494ef4fb6a8f962de931e323d": {
          "model_module": "@jupyter-widgets/controls",
          "model_module_version": "1.5.0",
          "model_name": "HTMLModel",
          "state": {
            "_dom_classes": [],
            "_model_module": "@jupyter-widgets/controls",
            "_model_module_version": "1.5.0",
            "_model_name": "HTMLModel",
            "_view_count": null,
            "_view_module": "@jupyter-widgets/controls",
            "_view_module_version": "1.5.0",
            "_view_name": "HTMLView",
            "description": "",
            "description_tooltip": null,
            "layout": "IPY_MODEL_ed414860370840c1a2f84e2133a26028",
            "placeholder": "​",
            "style": "IPY_MODEL_3f97c78348cc48a0b7987060465391f6",
            "value": "Fitting CTGAN transformers for each column:  92%"
          }
        },
        "8a817c30ae654310b00f143f3413c558": {
          "model_module": "@jupyter-widgets/base",
          "model_module_version": "1.2.0",
          "model_name": "LayoutModel",
          "state": {
            "_model_module": "@jupyter-widgets/base",
            "_model_module_version": "1.2.0",
            "_model_name": "LayoutModel",
            "_view_count": null,
            "_view_module": "@jupyter-widgets/base",
            "_view_module_version": "1.2.0",
            "_view_name": "LayoutView",
            "align_content": null,
            "align_items": null,
            "align_self": null,
            "border": null,
            "bottom": null,
            "display": null,
            "flex": null,
            "flex_flow": null,
            "grid_area": null,
            "grid_auto_columns": null,
            "grid_auto_flow": null,
            "grid_auto_rows": null,
            "grid_column": null,
            "grid_gap": null,
            "grid_row": null,
            "grid_template_areas": null,
            "grid_template_columns": null,
            "grid_template_rows": null,
            "height": null,
            "justify_content": null,
            "justify_items": null,
            "left": null,
            "margin": null,
            "max_height": null,
            "max_width": null,
            "min_height": null,
            "min_width": null,
            "object_fit": null,
            "object_position": null,
            "order": null,
            "overflow": null,
            "overflow_x": null,
            "overflow_y": null,
            "padding": null,
            "right": null,
            "top": null,
            "visibility": null,
            "width": null
          }
        },
        "a8465f08eee74baa92a6a8a821c3542a": {
          "model_module": "@jupyter-widgets/controls",
          "model_module_version": "1.5.0",
          "model_name": "ProgressStyleModel",
          "state": {
            "_model_module": "@jupyter-widgets/controls",
            "_model_module_version": "1.5.0",
            "_model_name": "ProgressStyleModel",
            "_view_count": null,
            "_view_module": "@jupyter-widgets/base",
            "_view_module_version": "1.2.0",
            "_view_name": "StyleView",
            "bar_color": null,
            "description_width": ""
          }
        },
        "b98cae329655415a857e7012ec23c8c6": {
          "model_module": "@jupyter-widgets/controls",
          "model_module_version": "1.5.0",
          "model_name": "HBoxModel",
          "state": {
            "_dom_classes": [],
            "_model_module": "@jupyter-widgets/controls",
            "_model_module_version": "1.5.0",
            "_model_name": "HBoxModel",
            "_view_count": null,
            "_view_module": "@jupyter-widgets/controls",
            "_view_module_version": "1.5.0",
            "_view_name": "HBoxView",
            "box_style": "",
            "children": [
              "IPY_MODEL_7c4a252494ef4fb6a8f962de931e323d",
              "IPY_MODEL_7a2163ead58f4a878842444d8f959ed1",
              "IPY_MODEL_c9c509377fe5492da058d539eaaad6e2"
            ],
            "layout": "IPY_MODEL_8a817c30ae654310b00f143f3413c558"
          }
        },
        "c9c509377fe5492da058d539eaaad6e2": {
          "model_module": "@jupyter-widgets/controls",
          "model_module_version": "1.5.0",
          "model_name": "HTMLModel",
          "state": {
            "_dom_classes": [],
            "_model_module": "@jupyter-widgets/controls",
            "_model_module_version": "1.5.0",
            "_model_name": "HTMLModel",
            "_view_count": null,
            "_view_module": "@jupyter-widgets/controls",
            "_view_module_version": "1.5.0",
            "_view_name": "HTMLView",
            "description": "",
            "description_tooltip": null,
            "layout": "IPY_MODEL_15ed34ddfdc741aa8e86e32e0e3c3879",
            "placeholder": "​",
            "style": "IPY_MODEL_670d125756d3446aa7570a0e779fa348",
            "value": " 12/13 [00:00&lt;00:00, 21.49it/s]"
          }
        },
        "ed414860370840c1a2f84e2133a26028": {
          "model_module": "@jupyter-widgets/base",
          "model_module_version": "1.2.0",
          "model_name": "LayoutModel",
          "state": {
            "_model_module": "@jupyter-widgets/base",
            "_model_module_version": "1.2.0",
            "_model_name": "LayoutModel",
            "_view_count": null,
            "_view_module": "@jupyter-widgets/base",
            "_view_module_version": "1.2.0",
            "_view_name": "LayoutView",
            "align_content": null,
            "align_items": null,
            "align_self": null,
            "border": null,
            "bottom": null,
            "display": null,
            "flex": null,
            "flex_flow": null,
            "grid_area": null,
            "grid_auto_columns": null,
            "grid_auto_flow": null,
            "grid_auto_rows": null,
            "grid_column": null,
            "grid_gap": null,
            "grid_row": null,
            "grid_template_areas": null,
            "grid_template_columns": null,
            "grid_template_rows": null,
            "height": null,
            "justify_content": null,
            "justify_items": null,
            "left": null,
            "margin": null,
            "max_height": null,
            "max_width": null,
            "min_height": null,
            "min_width": null,
            "object_fit": null,
            "object_position": null,
            "order": null,
            "overflow": null,
            "overflow_x": null,
            "overflow_y": null,
            "padding": null,
            "right": null,
            "top": null,
            "visibility": null,
            "width": null
          }
        }
      }
    }
  },
  "nbformat": 4,
  "nbformat_minor": 0
}
